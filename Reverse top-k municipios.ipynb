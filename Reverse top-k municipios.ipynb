{
 "cells": [
  {
   "cell_type": "code",
   "execution_count": 1,
   "metadata": {},
   "outputs": [],
   "source": [
    "import pandas as pd\n",
    "import numpy as np\n",
    "import matplotlib.pyplot as plt\n",
    "from scipy import stats\n",
    "import math\n",
    "import random\n",
    "import seaborn as sns\n",
    "import sklearn.metrics as sk\n",
    "import time\n",
    "from itertools import permutations  \n",
    "\n",
    "from collections import Counter"
   ]
  },
  {
   "cell_type": "markdown",
   "metadata": {},
   "source": [
    "# Pre-processing"
   ]
  },
  {
   "cell_type": "code",
   "execution_count": 2,
   "metadata": {},
   "outputs": [],
   "source": [
    "def pre_processing():\n",
    "    df = pd.read_csv('dataset_20210113.csv')\n",
    "    test = df.query('resultadoFinalExame == \"Positivo\"').groupby('codigoMunicipioCaso')['codigoMunicipioCaso'].count()\n",
    "    sort = test.sort_values(ascending=True)\n",
    "    df = pd.DataFrame(sort)\n",
    "    df.rename(columns={'codigoMunicipioCaso':'count'}, inplace=True)\n",
    "    return df "
   ]
  },
  {
   "cell_type": "code",
   "execution_count": 3,
   "metadata": {},
   "outputs": [
    {
     "name": "stderr",
     "output_type": "stream",
     "text": [
      "C:\\ProgramData\\Anaconda3\\lib\\site-packages\\IPython\\core\\interactiveshell.py:3248: DtypeWarning: Columns (2,5,6,7,8,9,14,15,20,27,28,29,30,31,32,33,34,35,36,37,38,39,40,41,42,43,44,49,50,51,52,53,54,55,56,57,58,59,60,61) have mixed types. Specify dtype option on import or set low_memory=False.\n",
      "  if (await self.run_code(code, result,  async_=asy)):\n"
     ]
    }
   ],
   "source": [
    "dataset = pre_processing()"
   ]
  },
  {
   "cell_type": "code",
   "execution_count": 4,
   "metadata": {},
   "outputs": [],
   "source": [
    "df = pd.DataFrame({'city_code': dataset.index.to_list(), 'count': dataset.values.flatten().tolist()})"
   ]
  },
  {
   "cell_type": "code",
   "execution_count": 5,
   "metadata": {},
   "outputs": [],
   "source": [
    "def change_code_to_name_city(df): #on the original dataset, the name of many cities were written incorrectly, so I needed\n",
    "                                       #to make a conversion using another dataset that has names written correctly\n",
    "    name_city = pd.read_excel('cod_municipios.xlsx')\n",
    "    \n",
    "    def code_to_name(r):\n",
    "        city_code = r.values[0]\n",
    "        city_name = r.values[1]\n",
    "        row = df.query(\"city_code == %d.0\" % int(str(city_code)[:-1])).copy()\n",
    "        row['nome_municipio'] = city_name\n",
    "        return pd.DataFrame({'city_name': row['nome_municipio'], 'city_code': row['city_code'], 'count': row['count']})\n",
    "    \n",
    "    df = name_city.apply(code_to_name, axis=1).to_list()\n",
    "    \n",
    "    return df"
   ]
  },
  {
   "cell_type": "code",
   "execution_count": 6,
   "metadata": {},
   "outputs": [],
   "source": [
    "dataset = pd.concat(change_code_to_name_city(df))"
   ]
  },
  {
   "cell_type": "code",
   "execution_count": 7,
   "metadata": {},
   "outputs": [],
   "source": [
    "#dataset.to_excel(\"to_viz.xlsx\") #to make visualization"
   ]
  },
  {
   "cell_type": "code",
   "execution_count": 8,
   "metadata": {},
   "outputs": [],
   "source": [
    "dataset = dataset.sort_values(by=['count'])"
   ]
  },
  {
   "cell_type": "code",
   "execution_count": 9,
   "metadata": {},
   "outputs": [
    {
     "data": {
      "text/html": [
       "<div>\n",
       "<style scoped>\n",
       "    .dataframe tbody tr th:only-of-type {\n",
       "        vertical-align: middle;\n",
       "    }\n",
       "\n",
       "    .dataframe tbody tr th {\n",
       "        vertical-align: top;\n",
       "    }\n",
       "\n",
       "    .dataframe thead th {\n",
       "        text-align: right;\n",
       "    }\n",
       "</style>\n",
       "<table border=\"1\" class=\"dataframe\">\n",
       "  <thead>\n",
       "    <tr style=\"text-align: right;\">\n",
       "      <th></th>\n",
       "      <th>city_name</th>\n",
       "      <th>city_code</th>\n",
       "      <th>count</th>\n",
       "    </tr>\n",
       "  </thead>\n",
       "  <tbody>\n",
       "    <tr>\n",
       "      <th>0</th>\n",
       "      <td>Antonina do Norte</td>\n",
       "      <td>230080.0</td>\n",
       "      <td>56</td>\n",
       "    </tr>\n",
       "    <tr>\n",
       "      <th>1</th>\n",
       "      <td>Tarrafas</td>\n",
       "      <td>231325.0</td>\n",
       "      <td>66</td>\n",
       "    </tr>\n",
       "    <tr>\n",
       "      <th>2</th>\n",
       "      <td>Penaforte</td>\n",
       "      <td>231060.0</td>\n",
       "      <td>75</td>\n",
       "    </tr>\n",
       "    <tr>\n",
       "      <th>3</th>\n",
       "      <td>Arneiroz</td>\n",
       "      <td>230150.0</td>\n",
       "      <td>77</td>\n",
       "    </tr>\n",
       "    <tr>\n",
       "      <th>4</th>\n",
       "      <td>Aiuaba</td>\n",
       "      <td>230040.0</td>\n",
       "      <td>80</td>\n",
       "    </tr>\n",
       "    <tr>\n",
       "      <th>5</th>\n",
       "      <td>Baixio</td>\n",
       "      <td>230180.0</td>\n",
       "      <td>97</td>\n",
       "    </tr>\n",
       "    <tr>\n",
       "      <th>6</th>\n",
       "      <td>Mulungu</td>\n",
       "      <td>230910.0</td>\n",
       "      <td>98</td>\n",
       "    </tr>\n",
       "    <tr>\n",
       "      <th>7</th>\n",
       "      <td>Potengi</td>\n",
       "      <td>231120.0</td>\n",
       "      <td>110</td>\n",
       "    </tr>\n",
       "    <tr>\n",
       "      <th>8</th>\n",
       "      <td>Jati</td>\n",
       "      <td>230720.0</td>\n",
       "      <td>110</td>\n",
       "    </tr>\n",
       "    <tr>\n",
       "      <th>9</th>\n",
       "      <td>General Sampaio</td>\n",
       "      <td>230460.0</td>\n",
       "      <td>120</td>\n",
       "    </tr>\n",
       "    <tr>\n",
       "      <th>10</th>\n",
       "      <td>Potiretama</td>\n",
       "      <td>231123.0</td>\n",
       "      <td>133</td>\n",
       "    </tr>\n",
       "    <tr>\n",
       "      <th>11</th>\n",
       "      <td>São João do Jaguaribe</td>\n",
       "      <td>231250.0</td>\n",
       "      <td>133</td>\n",
       "    </tr>\n",
       "    <tr>\n",
       "      <th>12</th>\n",
       "      <td>Ibaretama</td>\n",
       "      <td>230526.0</td>\n",
       "      <td>148</td>\n",
       "    </tr>\n",
       "    <tr>\n",
       "      <th>13</th>\n",
       "      <td>Fortim</td>\n",
       "      <td>230445.0</td>\n",
       "      <td>163</td>\n",
       "    </tr>\n",
       "    <tr>\n",
       "      <th>14</th>\n",
       "      <td>Abaiara</td>\n",
       "      <td>230010.0</td>\n",
       "      <td>173</td>\n",
       "    </tr>\n",
       "    <tr>\n",
       "      <th>15</th>\n",
       "      <td>Pacoti</td>\n",
       "      <td>230980.0</td>\n",
       "      <td>197</td>\n",
       "    </tr>\n",
       "    <tr>\n",
       "      <th>16</th>\n",
       "      <td>Paramoti</td>\n",
       "      <td>231040.0</td>\n",
       "      <td>199</td>\n",
       "    </tr>\n",
       "    <tr>\n",
       "      <th>17</th>\n",
       "      <td>Aratuba</td>\n",
       "      <td>230140.0</td>\n",
       "      <td>199</td>\n",
       "    </tr>\n",
       "    <tr>\n",
       "      <th>18</th>\n",
       "      <td>Guaramiranga</td>\n",
       "      <td>230510.0</td>\n",
       "      <td>201</td>\n",
       "    </tr>\n",
       "    <tr>\n",
       "      <th>19</th>\n",
       "      <td>Apuiarés</td>\n",
       "      <td>230090.0</td>\n",
       "      <td>203</td>\n",
       "    </tr>\n",
       "    <tr>\n",
       "      <th>20</th>\n",
       "      <td>Granjeiro</td>\n",
       "      <td>230480.0</td>\n",
       "      <td>208</td>\n",
       "    </tr>\n",
       "    <tr>\n",
       "      <th>21</th>\n",
       "      <td>Martinópole</td>\n",
       "      <td>230790.0</td>\n",
       "      <td>223</td>\n",
       "    </tr>\n",
       "    <tr>\n",
       "      <th>22</th>\n",
       "      <td>Choró</td>\n",
       "      <td>230393.0</td>\n",
       "      <td>230</td>\n",
       "    </tr>\n",
       "    <tr>\n",
       "      <th>23</th>\n",
       "      <td>Itaiçaba</td>\n",
       "      <td>230620.0</td>\n",
       "      <td>232</td>\n",
       "    </tr>\n",
       "    <tr>\n",
       "      <th>24</th>\n",
       "      <td>Caridade</td>\n",
       "      <td>230300.0</td>\n",
       "      <td>234</td>\n",
       "    </tr>\n",
       "    <tr>\n",
       "      <th>25</th>\n",
       "      <td>Senador Sá</td>\n",
       "      <td>231280.0</td>\n",
       "      <td>250</td>\n",
       "    </tr>\n",
       "    <tr>\n",
       "      <th>26</th>\n",
       "      <td>São Luís do Curu</td>\n",
       "      <td>231260.0</td>\n",
       "      <td>260</td>\n",
       "    </tr>\n",
       "    <tr>\n",
       "      <th>27</th>\n",
       "      <td>Poranga</td>\n",
       "      <td>231100.0</td>\n",
       "      <td>260</td>\n",
       "    </tr>\n",
       "    <tr>\n",
       "      <th>28</th>\n",
       "      <td>Pedra Branca</td>\n",
       "      <td>231050.0</td>\n",
       "      <td>262</td>\n",
       "    </tr>\n",
       "    <tr>\n",
       "      <th>29</th>\n",
       "      <td>Catarina</td>\n",
       "      <td>230360.0</td>\n",
       "      <td>265</td>\n",
       "    </tr>\n",
       "    <tr>\n",
       "      <th>...</th>\n",
       "      <td>...</td>\n",
       "      <td>...</td>\n",
       "      <td>...</td>\n",
       "    </tr>\n",
       "    <tr>\n",
       "      <th>154</th>\n",
       "      <td>Limoeiro do Norte</td>\n",
       "      <td>230760.0</td>\n",
       "      <td>1808</td>\n",
       "    </tr>\n",
       "    <tr>\n",
       "      <th>155</th>\n",
       "      <td>Redenção</td>\n",
       "      <td>231160.0</td>\n",
       "      <td>1876</td>\n",
       "    </tr>\n",
       "    <tr>\n",
       "      <th>156</th>\n",
       "      <td>Acaraú</td>\n",
       "      <td>230020.0</td>\n",
       "      <td>1885</td>\n",
       "    </tr>\n",
       "    <tr>\n",
       "      <th>157</th>\n",
       "      <td>Cascavel</td>\n",
       "      <td>230350.0</td>\n",
       "      <td>1908</td>\n",
       "    </tr>\n",
       "    <tr>\n",
       "      <th>158</th>\n",
       "      <td>Barbalha</td>\n",
       "      <td>230190.0</td>\n",
       "      <td>1995</td>\n",
       "    </tr>\n",
       "    <tr>\n",
       "      <th>159</th>\n",
       "      <td>São Gonçalo do Amarante</td>\n",
       "      <td>231240.0</td>\n",
       "      <td>2008</td>\n",
       "    </tr>\n",
       "    <tr>\n",
       "      <th>160</th>\n",
       "      <td>Pacajus</td>\n",
       "      <td>230960.0</td>\n",
       "      <td>2162</td>\n",
       "    </tr>\n",
       "    <tr>\n",
       "      <th>161</th>\n",
       "      <td>Pacatuba</td>\n",
       "      <td>230970.0</td>\n",
       "      <td>2198</td>\n",
       "    </tr>\n",
       "    <tr>\n",
       "      <th>162</th>\n",
       "      <td>Quixeramobim</td>\n",
       "      <td>231140.0</td>\n",
       "      <td>2265</td>\n",
       "    </tr>\n",
       "    <tr>\n",
       "      <th>163</th>\n",
       "      <td>Ipu</td>\n",
       "      <td>230580.0</td>\n",
       "      <td>2357</td>\n",
       "    </tr>\n",
       "    <tr>\n",
       "      <th>164</th>\n",
       "      <td>Eusébio</td>\n",
       "      <td>230428.0</td>\n",
       "      <td>2412</td>\n",
       "    </tr>\n",
       "    <tr>\n",
       "      <th>165</th>\n",
       "      <td>Tauá</td>\n",
       "      <td>231330.0</td>\n",
       "      <td>2561</td>\n",
       "    </tr>\n",
       "    <tr>\n",
       "      <th>166</th>\n",
       "      <td>Camocim</td>\n",
       "      <td>230260.0</td>\n",
       "      <td>2610</td>\n",
       "    </tr>\n",
       "    <tr>\n",
       "      <th>167</th>\n",
       "      <td>Morada Nova</td>\n",
       "      <td>230870.0</td>\n",
       "      <td>2835</td>\n",
       "    </tr>\n",
       "    <tr>\n",
       "      <th>168</th>\n",
       "      <td>Tianguá</td>\n",
       "      <td>231340.0</td>\n",
       "      <td>3002</td>\n",
       "    </tr>\n",
       "    <tr>\n",
       "      <th>169</th>\n",
       "      <td>Horizonte</td>\n",
       "      <td>230523.0</td>\n",
       "      <td>3051</td>\n",
       "    </tr>\n",
       "    <tr>\n",
       "      <th>170</th>\n",
       "      <td>Icó</td>\n",
       "      <td>230540.0</td>\n",
       "      <td>3142</td>\n",
       "    </tr>\n",
       "    <tr>\n",
       "      <th>171</th>\n",
       "      <td>Brejo Santo</td>\n",
       "      <td>230250.0</td>\n",
       "      <td>3208</td>\n",
       "    </tr>\n",
       "    <tr>\n",
       "      <th>172</th>\n",
       "      <td>Itapipoca</td>\n",
       "      <td>230640.0</td>\n",
       "      <td>3247</td>\n",
       "    </tr>\n",
       "    <tr>\n",
       "      <th>173</th>\n",
       "      <td>Maranguape</td>\n",
       "      <td>230770.0</td>\n",
       "      <td>3482</td>\n",
       "    </tr>\n",
       "    <tr>\n",
       "      <th>174</th>\n",
       "      <td>Quixadá</td>\n",
       "      <td>231130.0</td>\n",
       "      <td>3515</td>\n",
       "    </tr>\n",
       "    <tr>\n",
       "      <th>175</th>\n",
       "      <td>Russas</td>\n",
       "      <td>231180.0</td>\n",
       "      <td>3543</td>\n",
       "    </tr>\n",
       "    <tr>\n",
       "      <th>176</th>\n",
       "      <td>Iguatu</td>\n",
       "      <td>230550.0</td>\n",
       "      <td>4594</td>\n",
       "    </tr>\n",
       "    <tr>\n",
       "      <th>177</th>\n",
       "      <td>Caucaia</td>\n",
       "      <td>230370.0</td>\n",
       "      <td>5582</td>\n",
       "    </tr>\n",
       "    <tr>\n",
       "      <th>178</th>\n",
       "      <td>Crato</td>\n",
       "      <td>230420.0</td>\n",
       "      <td>7389</td>\n",
       "    </tr>\n",
       "    <tr>\n",
       "      <th>179</th>\n",
       "      <td>Maracanaú</td>\n",
       "      <td>230765.0</td>\n",
       "      <td>7593</td>\n",
       "    </tr>\n",
       "    <tr>\n",
       "      <th>180</th>\n",
       "      <td>Crateús</td>\n",
       "      <td>230410.0</td>\n",
       "      <td>8019</td>\n",
       "    </tr>\n",
       "    <tr>\n",
       "      <th>181</th>\n",
       "      <td>Sobral</td>\n",
       "      <td>231290.0</td>\n",
       "      <td>8472</td>\n",
       "    </tr>\n",
       "    <tr>\n",
       "      <th>182</th>\n",
       "      <td>Juazeiro do Norte</td>\n",
       "      <td>230730.0</td>\n",
       "      <td>9742</td>\n",
       "    </tr>\n",
       "    <tr>\n",
       "      <th>183</th>\n",
       "      <td>Fortaleza</td>\n",
       "      <td>230440.0</td>\n",
       "      <td>76522</td>\n",
       "    </tr>\n",
       "  </tbody>\n",
       "</table>\n",
       "<p>184 rows × 3 columns</p>\n",
       "</div>"
      ],
      "text/plain": [
       "                   city_name  city_code  count\n",
       "0          Antonina do Norte   230080.0     56\n",
       "1                   Tarrafas   231325.0     66\n",
       "2                  Penaforte   231060.0     75\n",
       "3                   Arneiroz   230150.0     77\n",
       "4                     Aiuaba   230040.0     80\n",
       "5                     Baixio   230180.0     97\n",
       "6                    Mulungu   230910.0     98\n",
       "7                    Potengi   231120.0    110\n",
       "8                       Jati   230720.0    110\n",
       "9            General Sampaio   230460.0    120\n",
       "10                Potiretama   231123.0    133\n",
       "11     São João do Jaguaribe   231250.0    133\n",
       "12                 Ibaretama   230526.0    148\n",
       "13                    Fortim   230445.0    163\n",
       "14                   Abaiara   230010.0    173\n",
       "15                    Pacoti   230980.0    197\n",
       "16                  Paramoti   231040.0    199\n",
       "17                   Aratuba   230140.0    199\n",
       "18              Guaramiranga   230510.0    201\n",
       "19                  Apuiarés   230090.0    203\n",
       "20                 Granjeiro   230480.0    208\n",
       "21               Martinópole   230790.0    223\n",
       "22                     Choró   230393.0    230\n",
       "23                  Itaiçaba   230620.0    232\n",
       "24                  Caridade   230300.0    234\n",
       "25                Senador Sá   231280.0    250\n",
       "26          São Luís do Curu   231260.0    260\n",
       "27                   Poranga   231100.0    260\n",
       "28              Pedra Branca   231050.0    262\n",
       "29                  Catarina   230360.0    265\n",
       "..                       ...        ...    ...\n",
       "154        Limoeiro do Norte   230760.0   1808\n",
       "155                 Redenção   231160.0   1876\n",
       "156                   Acaraú   230020.0   1885\n",
       "157                 Cascavel   230350.0   1908\n",
       "158                 Barbalha   230190.0   1995\n",
       "159  São Gonçalo do Amarante   231240.0   2008\n",
       "160                  Pacajus   230960.0   2162\n",
       "161                 Pacatuba   230970.0   2198\n",
       "162             Quixeramobim   231140.0   2265\n",
       "163                      Ipu   230580.0   2357\n",
       "164                  Eusébio   230428.0   2412\n",
       "165                     Tauá   231330.0   2561\n",
       "166                  Camocim   230260.0   2610\n",
       "167              Morada Nova   230870.0   2835\n",
       "168                  Tianguá   231340.0   3002\n",
       "169                Horizonte   230523.0   3051\n",
       "170                      Icó   230540.0   3142\n",
       "171              Brejo Santo   230250.0   3208\n",
       "172                Itapipoca   230640.0   3247\n",
       "173               Maranguape   230770.0   3482\n",
       "174                  Quixadá   231130.0   3515\n",
       "175                   Russas   231180.0   3543\n",
       "176                   Iguatu   230550.0   4594\n",
       "177                  Caucaia   230370.0   5582\n",
       "178                    Crato   230420.0   7389\n",
       "179                Maracanaú   230765.0   7593\n",
       "180                  Crateús   230410.0   8019\n",
       "181                   Sobral   231290.0   8472\n",
       "182        Juazeiro do Norte   230730.0   9742\n",
       "183                Fortaleza   230440.0  76522\n",
       "\n",
       "[184 rows x 3 columns]"
      ]
     },
     "execution_count": 9,
     "metadata": {},
     "output_type": "execute_result"
    }
   ],
   "source": [
    "dataset"
   ]
  },
  {
   "cell_type": "markdown",
   "metadata": {},
   "source": [
    "# Reverse top-k query"
   ]
  },
  {
   "cell_type": "code",
   "execution_count": 10,
   "metadata": {},
   "outputs": [],
   "source": [
    "def reverse_top_k(dataset, k):\n",
    "    return dataset.iloc[:k]"
   ]
  },
  {
   "cell_type": "code",
   "execution_count": 11,
   "metadata": {},
   "outputs": [
    {
     "data": {
      "text/html": [
       "<div>\n",
       "<style scoped>\n",
       "    .dataframe tbody tr th:only-of-type {\n",
       "        vertical-align: middle;\n",
       "    }\n",
       "\n",
       "    .dataframe tbody tr th {\n",
       "        vertical-align: top;\n",
       "    }\n",
       "\n",
       "    .dataframe thead th {\n",
       "        text-align: right;\n",
       "    }\n",
       "</style>\n",
       "<table border=\"1\" class=\"dataframe\">\n",
       "  <thead>\n",
       "    <tr style=\"text-align: right;\">\n",
       "      <th></th>\n",
       "      <th>city_name</th>\n",
       "      <th>city_code</th>\n",
       "      <th>count</th>\n",
       "    </tr>\n",
       "  </thead>\n",
       "  <tbody>\n",
       "    <tr>\n",
       "      <th>0</th>\n",
       "      <td>Antonina do Norte</td>\n",
       "      <td>230080.0</td>\n",
       "      <td>56</td>\n",
       "    </tr>\n",
       "    <tr>\n",
       "      <th>1</th>\n",
       "      <td>Tarrafas</td>\n",
       "      <td>231325.0</td>\n",
       "      <td>66</td>\n",
       "    </tr>\n",
       "    <tr>\n",
       "      <th>2</th>\n",
       "      <td>Penaforte</td>\n",
       "      <td>231060.0</td>\n",
       "      <td>75</td>\n",
       "    </tr>\n",
       "    <tr>\n",
       "      <th>3</th>\n",
       "      <td>Arneiroz</td>\n",
       "      <td>230150.0</td>\n",
       "      <td>77</td>\n",
       "    </tr>\n",
       "    <tr>\n",
       "      <th>4</th>\n",
       "      <td>Aiuaba</td>\n",
       "      <td>230040.0</td>\n",
       "      <td>80</td>\n",
       "    </tr>\n",
       "    <tr>\n",
       "      <th>5</th>\n",
       "      <td>Baixio</td>\n",
       "      <td>230180.0</td>\n",
       "      <td>97</td>\n",
       "    </tr>\n",
       "    <tr>\n",
       "      <th>6</th>\n",
       "      <td>Mulungu</td>\n",
       "      <td>230910.0</td>\n",
       "      <td>98</td>\n",
       "    </tr>\n",
       "    <tr>\n",
       "      <th>7</th>\n",
       "      <td>Potengi</td>\n",
       "      <td>231120.0</td>\n",
       "      <td>110</td>\n",
       "    </tr>\n",
       "    <tr>\n",
       "      <th>8</th>\n",
       "      <td>Jati</td>\n",
       "      <td>230720.0</td>\n",
       "      <td>110</td>\n",
       "    </tr>\n",
       "    <tr>\n",
       "      <th>9</th>\n",
       "      <td>General Sampaio</td>\n",
       "      <td>230460.0</td>\n",
       "      <td>120</td>\n",
       "    </tr>\n",
       "  </tbody>\n",
       "</table>\n",
       "</div>"
      ],
      "text/plain": [
       "           city_name  city_code  count\n",
       "0  Antonina do Norte   230080.0     56\n",
       "1           Tarrafas   231325.0     66\n",
       "2          Penaforte   231060.0     75\n",
       "3           Arneiroz   230150.0     77\n",
       "4             Aiuaba   230040.0     80\n",
       "5             Baixio   230180.0     97\n",
       "6            Mulungu   230910.0     98\n",
       "7            Potengi   231120.0    110\n",
       "8               Jati   230720.0    110\n",
       "9    General Sampaio   230460.0    120"
      ]
     },
     "execution_count": 11,
     "metadata": {},
     "output_type": "execute_result"
    }
   ],
   "source": [
    "reverse_top_k(dataset, 10)"
   ]
  },
  {
   "cell_type": "markdown",
   "metadata": {},
   "source": [
    "# Auxiliary functions"
   ]
  },
  {
   "cell_type": "code",
   "execution_count": 12,
   "metadata": {},
   "outputs": [],
   "source": [
    "def score_function(dataset):\n",
    "    return -dataset['count']"
   ]
  },
  {
   "cell_type": "code",
   "execution_count": 13,
   "metadata": {},
   "outputs": [],
   "source": [
    "def sensitivity(dataset):\n",
    "    return 1"
   ]
  },
  {
   "cell_type": "code",
   "execution_count": 14,
   "metadata": {},
   "outputs": [],
   "source": [
    "def plot_errors(errors, k, mechanism):\n",
    "    df = pd.DataFrame({\n",
    "        'epsilon': ['0.1', '1', '5', '10', '30', '75'],\n",
    "        'Error': [errors[0.1], errors[1], errors[5], errors[10], errors[30], errors[75]]})\n",
    "    \n",
    "    sns.catplot(x=\"epsilon\", y=\"Error\", palette=\"ch:start=.2,rot=-.3\",\n",
    "            data=df, saturation=.7,\n",
    "            kind=\"bar\", ci=None, aspect=.9, order=['0.1', '1', '5', '10', '30', '75'])\n",
    "    plt.xlabel(\"Budget(ε)\")\n",
    "    plt.ylabel(\"Error, k = {}\".format(k))\n",
    "    plt.savefig('cities_{}.png'.format(mechanism), format='png', dpi=320)\n",
    "    plt.title(\"Average using the Our Error metric for {}\".format(mechanism))\n",
    "    return plt.show()"
   ]
  },
  {
   "cell_type": "markdown",
   "metadata": {},
   "source": [
    "# Laplace Mechanism applied into the cities"
   ]
  },
  {
   "cell_type": "code",
   "execution_count": 15,
   "metadata": {},
   "outputs": [],
   "source": [
    "def laplace(budget, sensitivity, dataset):\n",
    "    counts = dataset['count']\n",
    "    cities_col = dataset['city_name']\n",
    "    local_budget = budget/k\n",
    "    scale = sensitivity/local_budget\n",
    "    noise = stats.laplace.rvs(loc = 0, scale = scale, size=dataset.shape[0])\n",
    "    data = dataset.copy()\n",
    "    data['count'] += noise\n",
    "    \n",
    "    return data.sort_values(by='count', ascending=True)"
   ]
  },
  {
   "cell_type": "code",
   "execution_count": 16,
   "metadata": {},
   "outputs": [],
   "source": [
    "def error_laplace(original, budgets, dataset):\n",
    "    error_rate = {}\n",
    "    for budget in budgets:\n",
    "        disturbed = laplace(budget, sensitivity(dataset), dataset)[:k]\n",
    "        disturbed.index = np.arange(0, len(disturbed))\n",
    "        #print(budget)\n",
    "        wrong_position = 0\n",
    "        for i in range(len(original)):\n",
    "            #print(\"original: \", original['city_name'][i], \"disturbed: \",disturbed['city_name'][i])\n",
    "            if(original['city_name'][i] != disturbed['city_name'][i]):\n",
    "                wrong_position+=1\n",
    "        error_rate[budget] = wrong_position/k\n",
    "    return error_rate"
   ]
  },
  {
   "cell_type": "code",
   "execution_count": 17,
   "metadata": {},
   "outputs": [
    {
     "data": {
      "text/plain": [
       "{0.1: 0.9, 1: 0.3, 5: 0.0, 10: 0.0, 30: 0.2, 75: 0.0}"
      ]
     },
     "execution_count": 17,
     "metadata": {},
     "output_type": "execute_result"
    }
   ],
   "source": [
    "budgets = [0.1, 1, 5, 10, 30, 75]\n",
    "k = 10\n",
    "groundtruth = reverse_top_k(dataset, k)\n",
    "initial_time_laplace = time.time()\n",
    "errors = error_laplace(groundtruth, budgets, dataset)\n",
    "final_time_laplace = time.time()\n",
    "errors"
   ]
  },
  {
   "cell_type": "code",
   "execution_count": 18,
   "metadata": {},
   "outputs": [
    {
     "data": {
      "image/png": "[encoded data removed]",
      "text/plain": [
       "<Figure size 324x360 with 1 Axes>"
      ]
     },
     "metadata": {
      "needs_background": "light"
     },
     "output_type": "display_data"
    },
    {
     "name": "stdout",
     "output_type": "stream",
     "text": [
      "Runtime Laplace:  0.0199735164642334\n"
     ]
    }
   ],
   "source": [
    "plot_errors(errors, 10, 'Laplace')\n",
    "print(\"Runtime Laplace: \", final_time_laplace-initial_time_laplace)"
   ]
  },
  {
   "cell_type": "markdown",
   "metadata": {},
   "source": [
    "# Exponential Mechanism applied into the cities"
   ]
  },
  {
   "cell_type": "code",
   "execution_count": 19,
   "metadata": {},
   "outputs": [],
   "source": [
    "def exponential_cities(budget, sensitivity, dataset, k):\n",
    "    budget = budget/k\n",
    "\n",
    "    scores = score_function(dataset)\n",
    "\n",
    "    _cities = list(dataset['city_name'].copy())\n",
    "    _scores = list(scores.copy())\n",
    "    \n",
    "    counts = list(dataset['count'].copy())\n",
    "\n",
    "    top = []\n",
    "\n",
    "    for i_run in range(k):\n",
    "\n",
    "        probabilities = []\n",
    "\n",
    "        for j_score in _scores:\n",
    "            probability = math.exp((budget * j_score) / (2 * sensitivity))\n",
    "            probabilities.append(probability)\n",
    "\n",
    "        probabilities = [j_probability/sum(probabilities) if(sum(probabilities)!=0) else 1 for j_probability in probabilities]\n",
    "\n",
    "        sample = random.choices(population=_cities, weights=probabilities, k=1)[0]\n",
    "        \n",
    "        count = counts[_cities.index(sample)]\n",
    "\n",
    "        top.append([sample, count])\n",
    "\n",
    "        _scores.remove(_scores[_cities.index(sample)])\n",
    "        _cities.remove(sample)\n",
    "        counts.remove(count)\n",
    "\n",
    "    return pd.DataFrame(top, columns = ['city_name', 'count'])"
   ]
  },
  {
   "cell_type": "code",
   "execution_count": 20,
   "metadata": {},
   "outputs": [],
   "source": [
    "def error_exponential(original, budgets, dataset):\n",
    "    error_rate = {}\n",
    "    for budget in budgets:\n",
    "        disturbed = exponential_cities(budget, sensitivity(dataset), dataset, k)\n",
    "        #print(budget)\n",
    "        wrong_position = 0\n",
    "        for i in range(len(original)):\n",
    "            if(original['city_name'][i] != disturbed['city_name'][i]):\n",
    "                wrong_position+=1\n",
    "        error_rate[budget] = wrong_position/k\n",
    "    return error_rate"
   ]
  },
  {
   "cell_type": "code",
   "execution_count": 21,
   "metadata": {},
   "outputs": [
    {
     "data": {
      "text/plain": [
       "{0.1: 1.0, 1: 0.9, 5: 0.7, 10: 0.4, 30: 0.0, 75: 0.2}"
      ]
     },
     "execution_count": 21,
     "metadata": {},
     "output_type": "execute_result"
    }
   ],
   "source": [
    "initial_time_exponential = time.time()\n",
    "errors = error_exponential(groundtruth, budgets, dataset)\n",
    "final_time_exponential= time.time()\n",
    "errors"
   ]
  },
  {
   "cell_type": "code",
   "execution_count": 22,
   "metadata": {},
   "outputs": [
    {
     "data": {
      "image/png": "[encoded data removed]",
      "text/plain": [
       "<Figure size 324x360 with 1 Axes>"
      ]
     },
     "metadata": {
      "needs_background": "light"
     },
     "output_type": "display_data"
    },
    {
     "name": "stdout",
     "output_type": "stream",
     "text": [
      "Runtime Exponential:  0.03792524337768555\n"
     ]
    }
   ],
   "source": [
    "plot_errors(errors, 10, 'Exponential')\n",
    "print(\"Runtime Exponential: \", final_time_exponential-initial_time_exponential)"
   ]
  },
  {
   "cell_type": "markdown",
   "metadata": {},
   "source": [
    "# Permute and Flip Mechanism applied into the cities"
   ]
  },
  {
   "cell_type": "code",
   "execution_count": 23,
   "metadata": {},
   "outputs": [],
   "source": [
    "def permute_cities(budget, sensitivity, dataset, k):\n",
    "    d = dataset.copy()\n",
    "    d = d.sample(len(dataset))\n",
    "    \n",
    "    d.index = np.arange(len(d))\n",
    "    budget = budget/k\n",
    "    top = [] \n",
    "    probabilities = []\n",
    "\n",
    "    counts = list(d['count'])\n",
    "\n",
    "    for i_run in range(k):    \n",
    "        max_score = max(score_function(d))\n",
    "        scores = score_function(d)\n",
    "        _scores = list(scores)\n",
    "\n",
    "        for j_score in _scores:\n",
    "            probability = math.exp((budget * (j_score - max_score)) / (2 * sensitivity))\n",
    "\n",
    "            #bernoulli condition\n",
    "            if(stats.bernoulli(probability).rvs()):\n",
    "                index = np.array(d.loc[d['count'] == -j_score].index)[0]\n",
    "\n",
    "        top.append(d.loc[index])\n",
    "\n",
    "        _scores.remove(_scores[index])\n",
    "        d = d.drop(index)\n",
    "        d.index = np.arange(len(d))\n",
    "    return pd.DataFrame(top, columns = ['city_name', 'city_code', 'count'], index=np.arange(k))"
   ]
  },
  {
   "cell_type": "code",
   "execution_count": 24,
   "metadata": {},
   "outputs": [],
   "source": [
    "def error_permute(original, budgets, dataset):\n",
    "    error_rate = {}\n",
    "    for budget in budgets:\n",
    "        disturbed = permute_cities(budget, sensitivity(dataset), dataset, k)\n",
    "        #print(budget)\n",
    "        wrong_position = 0\n",
    "        for i in range(len(original)):\n",
    "            if(original['city_name'][i] != disturbed['city_name'][i]):\n",
    "                wrong_position+=1\n",
    "        error_rate[budget] = wrong_position/k\n",
    "    return error_rate"
   ]
  },
  {
   "cell_type": "code",
   "execution_count": 25,
   "metadata": {},
   "outputs": [
    {
     "data": {
      "text/plain": [
       "{0.1: 1.0, 1: 1.0, 5: 0.2, 10: 0.0, 30: 0.0, 75: 0.0}"
      ]
     },
     "execution_count": 25,
     "metadata": {},
     "output_type": "execute_result"
    }
   ],
   "source": [
    "initial_time_pf = time.time()\n",
    "errors = error_permute(groundtruth, budgets, dataset)\n",
    "final_time_pf = time.time()\n",
    "errors"
   ]
  },
  {
   "cell_type": "code",
   "execution_count": 26,
   "metadata": {},
   "outputs": [
    {
     "data": {
      "image/png": "[encoded data removed]",
      "text/plain": [
       "<Figure size 324x360 with 1 Axes>"
      ]
     },
     "metadata": {
      "needs_background": "light"
     },
     "output_type": "display_data"
    },
    {
     "name": "stdout",
     "output_type": "stream",
     "text": [
      "Runtime Permute-and-Flip:  5.886286020278931\n"
     ]
    }
   ],
   "source": [
    "plot_errors(errors, 10, 'Permute-and-Flip')\n",
    "print(\"Runtime Permute-and-Flip: \", final_time_pf-initial_time_pf)"
   ]
  },
  {
   "cell_type": "markdown",
   "metadata": {},
   "source": [
    "# Calculating the average of the values for each epsilon executing queries 20 times\n",
    "\n",
    "### Laplace"
   ]
  },
  {
   "cell_type": "code",
   "execution_count": 27,
   "metadata": {},
   "outputs": [
    {
     "data": {
      "text/plain": [
       "{0.1: 0.9299999999999999,\n",
       " 1: 0.7,\n",
       " 5: 0.27,\n",
       " 10: 0.23000000000000004,\n",
       " 30: 0.11000000000000001,\n",
       " 75: 0.1}"
      ]
     },
     "execution_count": 27,
     "metadata": {},
     "output_type": "execute_result"
    }
   ],
   "source": [
    "#calculating the average of our metric executing our approach 20 times (for each epsilon value)\n",
    "aux_lap = []\n",
    "groundtruth = reverse_top_k(dataset, k)\n",
    "for _ in range(20):\n",
    "    errors = error_laplace(groundtruth, budgets, dataset)\n",
    "    aux_lap.append(errors)\n",
    "list_of_dicts = []\n",
    "avgs = {}\n",
    "for budget in budgets:\n",
    "    list_ = []\n",
    "    for j in range(len(aux_lap)):\n",
    "        list_.append(aux_lap[j][budget])\n",
    "    list_of_dicts.append(list_)\n",
    "for i in range(len(budgets)):\n",
    "    avgs[budgets[i]] = np.mean(list_of_dicts[i])\n",
    "avgs"
   ]
  },
  {
   "cell_type": "code",
   "execution_count": 28,
   "metadata": {},
   "outputs": [
    {
     "data": {
      "image/png": "[encoded data removed]",
      "text/plain": [
       "<Figure size 324x360 with 1 Axes>"
      ]
     },
     "metadata": {
      "needs_background": "light"
     },
     "output_type": "display_data"
    }
   ],
   "source": [
    "mechanism = 'Laplace'\n",
    "plot_errors(avgs, 10, mechanism)"
   ]
  },
  {
   "cell_type": "markdown",
   "metadata": {},
   "source": [
    "### Exponencial"
   ]
  },
  {
   "cell_type": "code",
   "execution_count": 29,
   "metadata": {},
   "outputs": [
    {
     "data": {
      "text/plain": [
       "{0.1: 0.9749999999999999,\n",
       " 1: 0.8549999999999999,\n",
       " 5: 0.37,\n",
       " 10: 0.28,\n",
       " 30: 0.11000000000000003,\n",
       " 75: 0.12000000000000002}"
      ]
     },
     "execution_count": 29,
     "metadata": {},
     "output_type": "execute_result"
    }
   ],
   "source": [
    "#calculating the average of our metric executing our approach 20 times (for each epsilon value)\n",
    "aux_exp = []\n",
    "groundtruth = reverse_top_k(dataset, k)\n",
    "for _ in range(20):\n",
    "    errors = error_exponential(groundtruth, budgets, dataset)\n",
    "    aux_exp.append(errors)\n",
    "list_of_dicts = []\n",
    "avgs = {}\n",
    "for budget in budgets:\n",
    "    list_ = []\n",
    "    for j in range(len(aux_exp)):\n",
    "        list_.append(aux_exp[j][budget])\n",
    "    list_of_dicts.append(list_)\n",
    "for i in range(len(budgets)):\n",
    "    avgs[budgets[i]] = np.mean(list_of_dicts[i])\n",
    "avgs"
   ]
  },
  {
   "cell_type": "code",
   "execution_count": 30,
   "metadata": {},
   "outputs": [
    {
     "data": {
      "image/png": "[encoded data removed]",
      "text/plain": [
       "<Figure size 324x360 with 1 Axes>"
      ]
     },
     "metadata": {
      "needs_background": "light"
     },
     "output_type": "display_data"
    }
   ],
   "source": [
    "mechanism = 'Exponencial'\n",
    "plot_errors(avgs, 10, mechanism)"
   ]
  },
  {
   "cell_type": "markdown",
   "metadata": {},
   "source": [
    "### Permute and Flip"
   ]
  },
  {
   "cell_type": "code",
   "execution_count": 31,
   "metadata": {},
   "outputs": [
    {
     "data": {
      "text/plain": [
       "{0.1: 1.0,\n",
       " 1: 0.8350000000000002,\n",
       " 5: 0.355,\n",
       " 10: 0.18000000000000002,\n",
       " 30: 0.13,\n",
       " 75: 0.12000000000000002}"
      ]
     },
     "execution_count": 31,
     "metadata": {},
     "output_type": "execute_result"
    }
   ],
   "source": [
    "#calculating the average of our metric executing our approach 20 times (for each epsilon value)\n",
    "aux_pf = []\n",
    "groundtruth = reverse_top_k(dataset, k)\n",
    "for _ in range(20):\n",
    "    errors = error_permute(groundtruth, budgets, dataset)\n",
    "    aux_pf.append(errors)\n",
    "list_of_dicts = []\n",
    "avgs = {}\n",
    "for budget in budgets:\n",
    "    list_ = []\n",
    "    for j in range(len(aux_pf)):\n",
    "        list_.append(aux_pf[j][budget])\n",
    "    list_of_dicts.append(list_)\n",
    "for i in range(len(budgets)):\n",
    "    avgs[budgets[i]] = np.mean(list_of_dicts[i])\n",
    "avgs"
   ]
  },
  {
   "cell_type": "code",
   "execution_count": 32,
   "metadata": {},
   "outputs": [
    {
     "data": {
      "image/png": "[encoded data removed]",
      "text/plain": [
       "<Figure size 324x360 with 1 Axes>"
      ]
     },
     "metadata": {
      "needs_background": "light"
     },
     "output_type": "display_data"
    }
   ],
   "source": [
    "mechanism = 'Permute-and-Flip'\n",
    "plot_errors(avgs, 10, mechanism)"
   ]
  }
 ],
 "metadata": {
  "kernelspec": {
   "display_name": "Python 3",
   "language": "python",
   "name": "python3"
  },
  "language_info": {
   "codemirror_mode": {
    "name": "ipython",
    "version": 3
   },
   "file_extension": ".py",
   "mimetype": "text/x-python",
   "name": "python",
   "nbconvert_exporter": "python",
   "pygments_lexer": "ipython3",
   "version": "3.7.3"
  }
 },
 "nbformat": 4,
 "nbformat_minor": 2
}
